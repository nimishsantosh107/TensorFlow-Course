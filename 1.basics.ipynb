{
 "cells": [
  {
   "cell_type": "code",
   "execution_count": 1,
   "metadata": {},
   "outputs": [
    {
     "name": "stdout",
     "output_type": "stream",
     "text": [
      "2.3.1\n"
     ]
    }
   ],
   "source": [
    "import numpy as np\n",
    "import tensorflow as tf\n",
    "\n",
    "print(tf.__version__)"
   ]
  },
  {
   "cell_type": "markdown",
   "metadata": {},
   "source": [
    "## Initialization"
   ]
  },
  {
   "cell_type": "code",
   "execution_count": 2,
   "metadata": {},
   "outputs": [
    {
     "name": "stdout",
     "output_type": "stream",
     "text": [
      "<tf.Variable 'Variable:0' shape=() dtype=int16, numpy=123>\n",
      "<tf.Variable 'Variable:0' shape=() dtype=float32, numpy=1.2>\n",
      "<tf.Variable 'Variable:0' shape=() dtype=string, numpy=b'X'>\n"
     ]
    }
   ],
   "source": [
    "# SCALARS\n",
    "var1 = tf.Variable(123, dtype = tf.int16)\n",
    "var2 = tf.Variable(1.2, dtype = tf.float32)\n",
    "var3 = tf.Variable(\"X\", dtype = tf.string)\n",
    "print(var1)\n",
    "print(var2)\n",
    "print(var3)"
   ]
  },
  {
   "cell_type": "code",
   "execution_count": 3,
   "metadata": {},
   "outputs": [
    {
     "name": "stdout",
     "output_type": "stream",
     "text": [
      "<tf.Variable 'Variable:0' shape=(5,) dtype=float32, numpy=array([1., 2., 3., 4., 5.], dtype=float32)>\n",
      "<tf.Variable 'Variable:0' shape=(2, 5) dtype=float32, numpy=\n",
      "array([[1., 2., 3., 4., 5.],\n",
      "       [6., 7., 8., 9., 0.]], dtype=float32)>\n"
     ]
    }
   ],
   "source": [
    "# VECTORS\n",
    "var1 = tf.Variable([1,2,3,4,5], dtype = tf.float32)\n",
    "var2 = tf.Variable([[1,2,3,4,5],[6,7,8,9,0]], dtype = tf.float32)\n",
    "print(var1)\n",
    "print(var2)"
   ]
  },
  {
   "cell_type": "code",
   "execution_count": 4,
   "metadata": {},
   "outputs": [
    {
     "data": {
      "text/plain": [
       "array([1., 2., 3., 4., 5.], dtype=float32)"
      ]
     },
     "execution_count": 4,
     "metadata": {},
     "output_type": "execute_result"
    }
   ],
   "source": [
    "# GET VALUE\n",
    "var1.numpy()"
   ]
  },
  {
   "cell_type": "code",
   "execution_count": 5,
   "metadata": {},
   "outputs": [
    {
     "name": "stdout",
     "output_type": "stream",
     "text": [
      "tf.Tensor([1. 2. 3. 4. 5.], shape=(5,), dtype=float32)\n"
     ]
    }
   ],
   "source": [
    "# CONST (for asserting dtype - refer docs)\n",
    "const1 = tf.constant([1,2,3,4,5], dtype = tf.float32)\n",
    "print(const1)"
   ]
  },
  {
   "cell_type": "code",
   "execution_count": 6,
   "metadata": {},
   "outputs": [
    {
     "data": {
      "text/plain": [
       "<tf.Tensor: shape=(2, 2), dtype=float32, numpy=\n",
       "array([[1., 0.],\n",
       "       [0., 1.]], dtype=float32)>"
      ]
     },
     "execution_count": 6,
     "metadata": {},
     "output_type": "execute_result"
    }
   ],
   "source": [
    "tf.eye(2)"
   ]
  },
  {
   "cell_type": "code",
   "execution_count": 7,
   "metadata": {},
   "outputs": [
    {
     "data": {
      "text/plain": [
       "<tf.Tensor: shape=(2, 2), dtype=float32, numpy=\n",
       "array([[0., 0.],\n",
       "       [0., 0.]], dtype=float32)>"
      ]
     },
     "execution_count": 7,
     "metadata": {},
     "output_type": "execute_result"
    }
   ],
   "source": [
    "tf.zeros((2,2))"
   ]
  },
  {
   "cell_type": "code",
   "execution_count": 8,
   "metadata": {},
   "outputs": [
    {
     "data": {
      "text/plain": [
       "<tf.Tensor: shape=(2, 2), dtype=float32, numpy=\n",
       "array([[1., 1.],\n",
       "       [1., 1.]], dtype=float32)>"
      ]
     },
     "execution_count": 8,
     "metadata": {},
     "output_type": "execute_result"
    }
   ],
   "source": [
    "tf.ones((2,2))"
   ]
  },
  {
   "cell_type": "code",
   "execution_count": 9,
   "metadata": {},
   "outputs": [
    {
     "data": {
      "text/plain": [
       "<tf.Tensor: shape=(3, 3), dtype=float32, numpy=\n",
       "array([[ 0.35871753, -1.5713143 ,  0.23083746],\n",
       "       [ 0.387041  , -0.8795477 , -1.0243611 ],\n",
       "       [-0.2777654 , -1.4723828 ,  2.9308202 ]], dtype=float32)>"
      ]
     },
     "execution_count": 9,
     "metadata": {},
     "output_type": "execute_result"
    }
   ],
   "source": [
    "tf.random.normal((3,3))"
   ]
  },
  {
   "cell_type": "markdown",
   "metadata": {},
   "source": [
    "## Reshape, Squeeze/Unsqueeze, Flatten"
   ]
  },
  {
   "cell_type": "code",
   "execution_count": 10,
   "metadata": {},
   "outputs": [
    {
     "name": "stdout",
     "output_type": "stream",
     "text": [
      "<tf.Variable 'Variable:0' shape=(4, 3) dtype=int64, numpy=\n",
      "array([[5, 0, 8],\n",
      "       [1, 8, 1],\n",
      "       [1, 0, 7],\n",
      "       [0, 5, 7]])>\n"
     ]
    }
   ],
   "source": [
    "data = np.random.randint(0,10,(4,3))\n",
    "t = tf.Variable(data)\n",
    "\n",
    "print(t)"
   ]
  },
  {
   "cell_type": "code",
   "execution_count": 11,
   "metadata": {},
   "outputs": [
    {
     "name": "stdout",
     "output_type": "stream",
     "text": [
      "tf.Tensor(\n",
      "[[5 0]\n",
      " [8 1]\n",
      " [8 1]\n",
      " [1 0]\n",
      " [7 0]\n",
      " [5 7]], shape=(6, 2), dtype=int64)\n"
     ]
    }
   ],
   "source": [
    "# RESHAPE\n",
    "t1 = tf.reshape(t, (6,2))\n",
    "print(t1)"
   ]
  },
  {
   "cell_type": "code",
   "execution_count": 12,
   "metadata": {},
   "outputs": [
    {
     "name": "stdout",
     "output_type": "stream",
     "text": [
      "tf.Tensor(\n",
      "[[5 0 8 1]\n",
      " [8 1 1 0]\n",
      " [7 0 5 7]], shape=(3, 4), dtype=int64)\n"
     ]
    }
   ],
   "source": [
    "# RESHAPE\n",
    "t1 = tf.reshape(t, (3,-1))  # 3 is one of the desired dimensions, -1 automatically figures out the other dimension\n",
    "print(t1)"
   ]
  },
  {
   "cell_type": "code",
   "execution_count": 14,
   "metadata": {},
   "outputs": [
    {
     "name": "stdout",
     "output_type": "stream",
     "text": [
      "tf.Tensor([[[5 0 8 1 8 1 1 0 7 0 5 7]]], shape=(1, 1, 12), dtype=int64)\n",
      "tf.Tensor([5 0 8 1 8 1 1 0 7 0 5 7], shape=(12,), dtype=int64)\n"
     ]
    }
   ],
   "source": [
    "# UNSQUEEZE\n",
    "t0 = tf.reshape(t,(1,1,-1))\n",
    "print(t0)\n",
    "\n",
    "# SQUEEZE\n",
    "t1 = tf.squeeze(t0)\n",
    "print(t1)"
   ]
  },
  {
   "cell_type": "code",
   "execution_count": 15,
   "metadata": {},
   "outputs": [
    {
     "name": "stdout",
     "output_type": "stream",
     "text": [
      "tf.Tensor([[[[5 0 8 1 8 1 1 0 7 0 5 7]]]], shape=(1, 1, 1, 12), dtype=int64)\n",
      "tf.Tensor([[[5 0 8 1 8 1 1 0 7 0 5 7]]], shape=(1, 1, 12), dtype=int64)\n"
     ]
    }
   ],
   "source": [
    "# UNSQUEEZE MULTI DIMENSIONS\n",
    "t0 = tf.reshape(t,(1,1,1,-1))\n",
    "print(t0)\n",
    "\n",
    "# SQUEEZE SPECIFIC DIMENSIONS (default - all dimensions with 1)\n",
    "t1 = tf.squeeze(t0, axis=1)\n",
    "print(t1)"
   ]
  },
  {
   "cell_type": "code",
   "execution_count": 16,
   "metadata": {},
   "outputs": [
    {
     "name": "stdout",
     "output_type": "stream",
     "text": [
      "tf.Tensor([5 0 8 1 8 1 1 0 7 0 5 7], shape=(12,), dtype=int64)\n"
     ]
    }
   ],
   "source": [
    "# FLATTEN\n",
    "t1 = tf.reshape(t,(-1))\n",
    "print(t1)"
   ]
  },
  {
   "cell_type": "markdown",
   "metadata": {},
   "source": [
    "## Reduction"
   ]
  },
  {
   "cell_type": "code",
   "execution_count": 17,
   "metadata": {},
   "outputs": [],
   "source": [
    "%%capture\n",
    "\n",
    "# AVAILABLE\n",
    "tf.argmax\n",
    "tf.argmin\n",
    "tf.reduce_max\n",
    "tf.reduce_min\n",
    "tf.reduce_sum\n",
    "tf.reduce_prod\n",
    "tf.reduce_mean\n",
    "tf.reduce_any\n",
    "tf.reduce_all\n",
    "tf.reduce_logsumexp"
   ]
  },
  {
   "cell_type": "code",
   "execution_count": 18,
   "metadata": {},
   "outputs": [
    {
     "name": "stdout",
     "output_type": "stream",
     "text": [
      "<tf.Variable 'Variable:0' shape=(3, 3) dtype=int64, numpy=\n",
      "array([[26, 48, 23],\n",
      "       [ 3, 16, 41],\n",
      "       [ 0,  1, 45]])>\n"
     ]
    }
   ],
   "source": [
    "data = np.random.randint(0,50,(3,3))\n",
    "t = tf.Variable(data)\n",
    "\n",
    "print(t)"
   ]
  },
  {
   "cell_type": "code",
   "execution_count": 19,
   "metadata": {},
   "outputs": [
    {
     "name": "stdout",
     "output_type": "stream",
     "text": [
      "MAX1: 48\n",
      "MAX2: [48 41 45]\n",
      "ARG2: [1 2 2]\n"
     ]
    }
   ],
   "source": [
    "max1 = tf.reduce_max(t)          # OVERALL MAX\n",
    "max2 = tf.reduce_max(t, axis=1)\n",
    "print(\"MAX1:\", max1.numpy())\n",
    "print(\"MAX2:\", max2.numpy())\n",
    "argmax2 = tf.argmax(t, axis=1)   # default - axis=0 \n",
    "print(\"ARG2:\", argmax2.numpy())"
   ]
  },
  {
   "cell_type": "code",
   "execution_count": 20,
   "metadata": {},
   "outputs": [
    {
     "name": "stdout",
     "output_type": "stream",
     "text": [
      "SUM1: 203\n",
      "SUM2: [97 60 46]\n"
     ]
    }
   ],
   "source": [
    "sum1 = tf.reduce_sum(t) # OVERALL SUM\n",
    "sum2 = tf.reduce_sum(t, axis=1)\n",
    "print(\"SUM1:\", sum1.numpy())\n",
    "print(\"SUM2:\", sum2.numpy())"
   ]
  }
 ],
 "metadata": {
  "kernelspec": {
   "display_name": "base",
   "language": "python",
   "name": "python3"
  },
  "language_info": {
   "codemirror_mode": {
    "name": "ipython",
    "version": 3
   },
   "file_extension": ".py",
   "mimetype": "text/x-python",
   "name": "python",
   "nbconvert_exporter": "python",
   "pygments_lexer": "ipython3",
   "version": "3.8.5"
  }
 },
 "nbformat": 4,
 "nbformat_minor": 4
}
